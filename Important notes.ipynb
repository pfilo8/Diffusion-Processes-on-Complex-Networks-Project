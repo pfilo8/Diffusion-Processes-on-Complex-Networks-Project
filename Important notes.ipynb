{
 "cells": [
  {
   "cell_type": "markdown",
   "metadata": {},
   "source": [
    "### Network topology"
   ]
  },
  {
   "cell_type": "markdown",
   "metadata": {},
   "source": [
    "* A square lattice, where a 2×2 panel of four spinsons is chosen randomly and influences its surroundings, as proposed by Stauffer et al. [51]. Note that in this paper we use a variant introduced in [53], where in one elementary time step dt = 1/N only one of the eight neighboring spinsons may change its direction, see Figs. 2-4.\n",
    "* A complete graph, where four agents are chosen at random and they influence a fifth randomly chosen spinson, as in [53]. Note that this corresponds to the mean field approach for the square lattice and allows for analytical calculations of the system dynamics."
   ]
  },
  {
   "cell_type": "markdown",
   "metadata": {},
   "source": [
    "##### Equivalences in our implementations"
   ]
  },
  {
   "cell_type": "markdown",
   "metadata": {},
   "source": [
    "* Square lattice topology - firstly we choose agent and then we take 4 people to panel from neighbours\n",
    "* Complete graph - similarily, firstly we choose agent and then we take 4 people to panel from neighbours, but this is also equivalent because it's complete graph"
   ]
  },
  {
   "cell_type": "markdown",
   "metadata": {},
   "source": [
    "### Concetration"
   ]
  },
  {
   "cell_type": "markdown",
   "metadata": {},
   "source": [
    "Concentration:\n",
    "\n",
    "$$ c(t) = \\frac{N_{\\uparrow}(t)}{N} $$\n",
    "\n",
    "where \n",
    "* $ N_{\\uparrow}(t) $ - number of adopted people, i.e. spinsons with opinion = 1\n",
    "* N - number of people in network"
   ]
  },
  {
   "cell_type": "markdown",
   "metadata": {},
   "source": [
    "### Possible extensions"
   ]
  },
  {
   "cell_type": "markdown",
   "metadata": {},
   "source": [
    "Ideas from article:\n",
    "* Barabasi-Albert, Watts-Strogatz networks\n",
    "* Different types of choosing spinsons panel, e.g. not from neighbours but at random from whole network\n",
    "* In contrast other studies, in our model the changes are reversible which means that spinsons can unadopt. A similar idea of rejection has been introduced by Goldenberg et al. [21]. They use four states to describe a consumer: 0 for unadopted, 1 for adopted and satisfied, −1 for adopted and dissatisfied, and 2 for a ‘rejecter’. From this point of view, a down-spinson (↓) in our model can be interpreted as a consumer who has not adopted (which corresponds to state 0) or such who adopted but for various reasons has switched back to the old product/service (which corresponds to state 2). Note, however, that in [21] a rejecter (state 2) is an absorbing state, i.e. cannot change, whereas in our model all changes are potentially reversible.\n",
    "* Threshold model (not all panelists must have the same opinion)\n",
    "* Randomly draw number of agents\n",
    "\n",
    "\n",
    "Our ideas:\n",
    "* Advertising which changes in time (advertising campaign)"
   ]
  },
  {
   "cell_type": "markdown",
   "metadata": {},
   "source": [
    "### Plots to reproduce"
   ]
  },
  {
   "cell_type": "markdown",
   "metadata": {},
   "source": [
    "* $c(t)$ vs $t$, $T = 4000$, $100x100$ square lattice, $p = 0.1$, $f = 0.1$, $h = 0.09$ (Fig. 5)\n",
    "* Snapshots of network (Fig. 6)\n",
    "* mean and median of $c(t)$ for $h=\\{0.1, 0.09, 0.085, 0.05\\}$, $T=8000$, $100x100$ square lattice, $p = 0.1$, $f = 0.1$, $10^3$ trajectiories (Fig. 7)\n",
    "* mean, median, confidence intervals for $h=0.09$, $h=0.095$ (Fig. 8)\n",
    "* $c(t)$ vs $h$ and grouped by $p$ (Fig. 9)\n",
    "* (Fig. 10 - right)\n",
    "* (Fig. 11 - left)"
   ]
  },
  {
   "cell_type": "markdown",
   "metadata": {},
   "source": [
    "### Presentation notes"
   ]
  },
  {
   "cell_type": "markdown",
   "metadata": {},
   "source": [
    "* Compare results from article to ours\n",
    "* Valley of Death metaphor"
   ]
  }
 ],
 "metadata": {
  "kernelspec": {
   "display_name": "Python 3",
   "language": "python",
   "name": "python3"
  },
  "language_info": {
   "codemirror_mode": {
    "name": "ipython",
    "version": 3
   },
   "file_extension": ".py",
   "mimetype": "text/x-python",
   "name": "python",
   "nbconvert_exporter": "python",
   "pygments_lexer": "ipython3",
   "version": "3.7.4"
  }
 },
 "nbformat": 4,
 "nbformat_minor": 2
}
